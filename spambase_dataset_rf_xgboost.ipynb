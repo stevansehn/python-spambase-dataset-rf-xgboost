{
  "nbformat": 4,
  "nbformat_minor": 0,
  "metadata": {
    "colab": {
      "provenance": [],
      "authorship_tag": "ABX9TyOvPWJWAcmSxc+csXpAFA9Y",
      "include_colab_link": true
    },
    "kernelspec": {
      "name": "python3",
      "display_name": "Python 3"
    },
    "language_info": {
      "name": "python"
    }
  },
  "cells": [
    {
      "cell_type": "markdown",
      "metadata": {
        "id": "view-in-github",
        "colab_type": "text"
      },
      "source": [
        "<a href=\"https://colab.research.google.com/github/stevansehn/spambase-dataset-rf-xgboost/blob/main/spambase_dataset_rf_xgboost.ipynb\" target=\"_parent\"><img src=\"https://colab.research.google.com/assets/colab-badge.svg\" alt=\"Open In Colab\"/></a>"
      ]
    },
    {
      "cell_type": "code",
      "execution_count": null,
      "metadata": {
        "id": "NlMzYb8_zQ8t"
      },
      "outputs": [],
      "source": [
        "import numpy as np\n",
        "import pandas as pd\n",
        "from sklearn.ensemble import RandomForestClassifier\n",
        "\n",
        "from sklearn.model_selection import train_test_split\n",
        "from sklearn.model_selection import cross_val_score\n",
        "from sklearn.metrics import classification_report\n",
        "\n",
        "import matplotlib.pyplot as plt"
      ]
    },
    {
      "cell_type": "code",
      "source": [
        "!pip install xgboost\n",
        "import xgboost as xgb"
      ],
      "metadata": {
        "colab": {
          "base_uri": "https://localhost:8080/"
        },
        "id": "DbTqhIhCBNpA",
        "outputId": "c06c2fbe-8945-4967-b947-80b23c5b78e0"
      },
      "execution_count": null,
      "outputs": [
        {
          "output_type": "stream",
          "name": "stdout",
          "text": [
            "Requirement already satisfied: xgboost in /usr/local/lib/python3.10/dist-packages (2.1.1)\n",
            "Requirement already satisfied: numpy in /usr/local/lib/python3.10/dist-packages (from xgboost) (1.26.4)\n",
            "Requirement already satisfied: nvidia-nccl-cu12 in /usr/local/lib/python3.10/dist-packages (from xgboost) (2.23.4)\n",
            "Requirement already satisfied: scipy in /usr/local/lib/python3.10/dist-packages (from xgboost) (1.13.1)\n"
          ]
        }
      ]
    },
    {
      "cell_type": "code",
      "source": [
        "from google.colab import drive\n",
        "drive.mount('/content/drive')"
      ],
      "metadata": {
        "colab": {
          "base_uri": "https://localhost:8080/"
        },
        "id": "4whIVrkKBONJ",
        "outputId": "eb441093-1afe-4579-f42d-54de53d01fca"
      },
      "execution_count": null,
      "outputs": [
        {
          "output_type": "stream",
          "name": "stdout",
          "text": [
            "Mounted at /content/drive\n"
          ]
        }
      ]
    },
    {
      "cell_type": "code",
      "source": [
        "df = pd.read_csv('/content/drive/MyDrive/RNA_Datasets/spambase.csv')"
      ],
      "metadata": {
        "id": "go60yXAa3UYq"
      },
      "execution_count": null,
      "outputs": []
    },
    {
      "cell_type": "code",
      "source": [
        "X = df.drop('class', axis=1)\n",
        "y = df['class']\n",
        "\n",
        "X_train, X_test, y_train, y_test = train_test_split(X, y, test_size=0.3, random_state=10)"
      ],
      "metadata": {
        "id": "TolifG46CC4r"
      },
      "execution_count": null,
      "outputs": []
    },
    {
      "cell_type": "markdown",
      "source": [
        "#### 1. Usando Validação cruzada com 5-folds, avalie a revocação dos algoritmos RF e XGBoost usando os valores dos hyperparâmetros padrão."
      ],
      "metadata": {
        "id": "aKQlWw1XFQoZ"
      }
    },
    {
      "cell_type": "code",
      "source": [
        "cls = RandomForestClassifier()\n",
        "cls.fit(X_train, y_train)\n",
        "\n",
        "scores = cross_val_score(cls, X_test, y_test, cv=5, scoring='recall')\n",
        "print('Revocação média:', scores.mean())"
      ],
      "metadata": {
        "colab": {
          "base_uri": "https://localhost:8080/"
        },
        "id": "ByBSOtk_CmP-",
        "outputId": "ab5e9b56-07de-4d8d-efa2-658bdaf76455"
      },
      "execution_count": null,
      "outputs": [
        {
          "output_type": "stream",
          "name": "stdout",
          "text": [
            "Revocação média: 0.9142857142857143\n"
          ]
        }
      ]
    },
    {
      "cell_type": "code",
      "source": [
        "cls = xgb.XGBClassifier()\n",
        "cls.fit(X_train, y_train)\n",
        "\n",
        "scores = cross_val_score(cls, X_test, y_test, cv=5, scoring='recall')\n",
        "print('Revocação média:', scores.mean())"
      ],
      "metadata": {
        "colab": {
          "base_uri": "https://localhost:8080/"
        },
        "id": "WduYM80zEjmf",
        "outputId": "002acc95-78c0-4b21-d42c-1669fdd32968"
      },
      "execution_count": null,
      "outputs": [
        {
          "output_type": "stream",
          "name": "stdout",
          "text": [
            "Revocação média: 0.9267857142857142\n"
          ]
        }
      ]
    },
    {
      "cell_type": "markdown",
      "source": [
        "#### 2. Usando holdout 70%/30% e o valor de random_state=10, calcule a diferença da métrica AUC obtida pelo RF com 50 árvores e com 300 árvores."
      ],
      "metadata": {
        "id": "JY1zZhdfFSf7"
      }
    },
    {
      "cell_type": "code",
      "source": [
        "cls = RandomForestClassifier(n_estimators=50, random_state=10)\n",
        "cls.fit(X_train, y_train)\n",
        "\n",
        "scores = cross_val_score(cls, X_test, y_test, cv=5, scoring='roc_auc')\n",
        "print('ROC AUC médio:', scores.mean())"
      ],
      "metadata": {
        "colab": {
          "base_uri": "https://localhost:8080/"
        },
        "id": "z1sRbUmpFTSz",
        "outputId": "b38d8a04-7cca-4c93-dd8d-f271b901acdc"
      },
      "execution_count": null,
      "outputs": [
        {
          "output_type": "stream",
          "name": "stdout",
          "text": [
            "ROC AUC médio: 0.9812076008341254\n"
          ]
        }
      ]
    },
    {
      "cell_type": "code",
      "source": [
        "cls = RandomForestClassifier(n_estimators=300, random_state=10)\n",
        "cls.fit(X_train, y_train)\n",
        "\n",
        "scores = cross_val_score(cls, X_test, y_test, cv=5, scoring='roc_auc')\n",
        "print('ROC AUC médio:', scores.mean())"
      ],
      "metadata": {
        "colab": {
          "base_uri": "https://localhost:8080/"
        },
        "id": "61MPsfjfFspC",
        "outputId": "0416f131-4636-4a71-dc92-db27baa2297e"
      },
      "execution_count": null,
      "outputs": [
        {
          "output_type": "stream",
          "name": "stdout",
          "text": [
            "ROC AUC médio: 0.9822864533840143\n"
          ]
        }
      ]
    },
    {
      "cell_type": "markdown",
      "source": [
        "#### 3. Usando todo o conjunto de dados e as configurações de hyperparâmetro padrão, calcule a importância de cada um dos atributos identificado pelo RF. Use random_state=10."
      ],
      "metadata": {
        "id": "xp95gILpFy-m"
      }
    },
    {
      "cell_type": "code",
      "source": [
        "cls = RandomForestClassifier(random_state=10)\n",
        "cls.fit(X, y)\n",
        "\n",
        "feature_names = X.columns.values\n",
        "feature_importances = cls.feature_importances_\n",
        "\n",
        "rk_features = {}\n",
        "for feature, importance in zip(feature_names, feature_importances):\n",
        "    rk_features[feature] = importance\n",
        "\n",
        "for feature in sorted(rk_features, key=rk_features.get, reverse=True):\n",
        "    print(feature + ':', rk_features[feature].round(2))"
      ],
      "metadata": {
        "colab": {
          "base_uri": "https://localhost:8080/"
        },
        "id": "RYgrsdXrFvG7",
        "outputId": "9c4e60fe-471b-4874-fb62-8dbe33e753f1"
      },
      "execution_count": null,
      "outputs": [
        {
          "output_type": "stream",
          "name": "stdout",
          "text": [
            "char_freq_%21: 0.12\n",
            "char_freq_%24: 0.09\n",
            "word_freq_free: 0.07\n",
            "word_freq_remove: 0.07\n",
            "word_freq_your: 0.06\n",
            "capital_run_length_longest: 0.06\n",
            "capital_run_length_average: 0.05\n",
            "word_freq_hp: 0.05\n",
            "capital_run_length_total: 0.05\n",
            "word_freq_money: 0.04\n",
            "word_freq_our: 0.03\n",
            "word_freq_you: 0.03\n",
            "word_freq_000: 0.02\n",
            "word_freq_hpl: 0.02\n",
            "word_freq_george: 0.02\n",
            "word_freq_edu: 0.02\n",
            "word_freq_business: 0.01\n",
            "word_freq_internet: 0.01\n",
            "char_freq_%28: 0.01\n",
            "word_freq_will: 0.01\n",
            "word_freq_1999: 0.01\n",
            "word_freq_all: 0.01\n",
            "word_freq_re: 0.01\n",
            "word_freq_mail: 0.01\n",
            "word_freq_over: 0.01\n",
            "word_freq_receive: 0.01\n",
            "word_freq_credit: 0.01\n",
            "word_freq_order: 0.01\n",
            "word_freq_email: 0.01\n",
            "word_freq_650: 0.01\n",
            "word_freq_meeting: 0.01\n",
            "char_freq_%3B: 0.0\n",
            "word_freq_address: 0.0\n",
            "word_freq_85: 0.0\n",
            "word_freq_labs: 0.0\n",
            "char_freq_%23: 0.0\n",
            "word_freq_people: 0.0\n",
            "word_freq_make: 0.0\n",
            "word_freq_pm: 0.0\n",
            "word_freq_data: 0.0\n",
            "word_freq_technology: 0.0\n",
            "word_freq_font: 0.0\n",
            "word_freq_telnet: 0.0\n",
            "word_freq_report: 0.0\n",
            "char_freq_%5B: 0.0\n",
            "word_freq_project: 0.0\n",
            "word_freq_lab: 0.0\n",
            "word_freq_original: 0.0\n",
            "word_freq_direct: 0.0\n",
            "word_freq_conference: 0.0\n",
            "word_freq_addresses: 0.0\n",
            "word_freq_cs: 0.0\n",
            "word_freq_415: 0.0\n",
            "word_freq_857: 0.0\n",
            "word_freq_3d: 0.0\n",
            "word_freq_parts: 0.0\n",
            "word_freq_table: 0.0\n"
          ]
        }
      ]
    }
  ]
}